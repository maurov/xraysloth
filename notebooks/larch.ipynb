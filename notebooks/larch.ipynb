{
 "cells": [
  {
   "cell_type": "markdown",
   "metadata": {},
   "source": [
    "# Examples of XAFS data analysis with Larch"
   ]
  },
  {
   "cell_type": "code",
   "execution_count": 8,
   "metadata": {},
   "outputs": [],
   "source": [
    "import numpy as np\n",
    "import matplotlib.pyplot as plt\n",
    "from larch.io import read_ascii\n",
    "from larch.xafs import autobk"
   ]
  },
  {
   "cell_type": "code",
   "execution_count": 11,
   "metadata": {},
   "outputs": [],
   "source": [
    "feo = read_ascii('./larch_data/feo_xafs.dat', labels = 'energy ctime i0 i1 nothing')\n",
    "feo.mu = - np.log(feo.i1/feo.i0)\n",
    "autobk(feo, kweight=2, rbkg=0.8, e0=7119.0)"
   ]
  },
  {
   "cell_type": "code",
   "execution_count": 13,
   "metadata": {},
   "outputs": [
    {
     "data": {
      "text/plain": [
       "['array_labels',\n",
       " 'atsym',\n",
       " 'attrs',\n",
       " 'autobk_details',\n",
       " 'bkg',\n",
       " 'chi',\n",
       " 'chie',\n",
       " 'ctime',\n",
       " 'data',\n",
       " 'delta_bkg',\n",
       " 'delta_chi',\n",
       " 'dmude',\n",
       " 'e0',\n",
       " 'edge',\n",
       " 'edge_step',\n",
       " 'edge_step_area',\n",
       " 'edge_step_poly',\n",
       " 'energy',\n",
       " 'filename',\n",
       " 'flat',\n",
       " 'header',\n",
       " 'i0',\n",
       " 'i1',\n",
       " 'k',\n",
       " 'mu',\n",
       " 'norm',\n",
       " 'norm_area',\n",
       " 'norm_poly',\n",
       " 'nothing',\n",
       " 'path',\n",
       " 'post_edge',\n",
       " 'pre_edge',\n",
       " 'pre_edge_details']"
      ]
     },
     "execution_count": 13,
     "metadata": {},
     "output_type": "execute_result"
    }
   ],
   "source": [
    "dir(feo)"
   ]
  },
  {
   "cell_type": "code",
   "execution_count": null,
   "metadata": {},
   "outputs": [],
   "source": []
  }
 ],
 "metadata": {
  "kernelspec": {
   "display_name": "Python 3",
   "language": "python",
   "name": "python3"
  },
  "language_info": {
   "codemirror_mode": {
    "name": "ipython",
    "version": 3
   },
   "file_extension": ".py",
   "mimetype": "text/x-python",
   "name": "python",
   "nbconvert_exporter": "python",
   "pygments_lexer": "ipython3",
   "version": "3.6.9"
  }
 },
 "nbformat": 4,
 "nbformat_minor": 4
}
